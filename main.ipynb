{
 "cells": [
  {
   "cell_type": "code",
   "execution_count": 29,
   "id": "6f928347",
   "metadata": {},
   "outputs": [],
   "source": [
    "import pandas as pd\n",
    "import numpy as np\n",
    "import matplotlib.pyplot as plt\n",
    "import seaborn as sns\n",
    "%matplotlib inline"
   ]
  },
  {
   "cell_type": "code",
   "execution_count": 30,
   "id": "b8400afd",
   "metadata": {},
   "outputs": [],
   "source": [
    "from urllib.request import urlopen\n",
    "from bs4 import BeautifulSoup"
   ]
  },
  {
   "cell_type": "code",
   "execution_count": 31,
   "id": "d720185a",
   "metadata": {},
   "outputs": [],
   "source": [
    "# url = \"https://popsicle.finance/stand/optimizer-v3\"\n",
    "# html = urlopen(url)"
   ]
  },
  {
   "cell_type": "code",
   "execution_count": 32,
   "id": "11a504ba",
   "metadata": {},
   "outputs": [
    {
     "data": {
      "text/plain": [
       "bs4.BeautifulSoup"
      ]
     },
     "execution_count": 32,
     "metadata": {},
     "output_type": "execute_result"
    }
   ],
   "source": [
    "soup = BeautifulSoup(html, 'lxml')\n",
    "type(soup)"
   ]
  },
  {
   "cell_type": "code",
   "execution_count": 33,
   "id": "38477b75",
   "metadata": {},
   "outputs": [],
   "source": [
    "# bs4.BeautifulSoup"
   ]
  },
  {
   "cell_type": "code",
   "execution_count": 37,
   "id": "603a67b7",
   "metadata": {},
   "outputs": [],
   "source": [
    "def get_page(URL, jar=None):\n",
    "    request_headers = {}\n",
    "    request_headers[\"update-insecure-requests\"] = \"1\"\n",
    "    request_headers[\"user-agent\"] = \"Mozilla/5.0 (Macintosh; Intel Mac OS X 12_2_1) AppleWebKit/537.36 (KHTML, like Gecko) Chrome/98.0.4758.102 Safari/537.36\"\n",
    "    \n",
    "    if jar:\n",
    "        page = requests.get(URL,cookies = jar, headers = request_headers)\n",
    "    else:\n",
    "        page = requests.get(URL,headers = request_headers)\n",
    "        jar = requests.cookies.RequestsCookieJar()\n",
    "        data = response.text\n",
    "        soup = BeautifulSoup(html, 'lxml')\n",
    "        type(soup)\n",
    "        return soup, jar\n",
    "    \n",
    "    url = \"https://popsicle.finance/stand/optimizer-v3\"\n",
    "    html = urlopen(url)\n",
    "    html\n",
    "    \n",
    "    try:\n",
    "        get_url = requests.get(url)\n",
    "    except UrlError as url_error:\n",
    "        print('Server Not Found')\n",
    "    else:\n",
    "        print('There is no error in the URL used')\n",
    "    "
   ]
  },
  {
   "cell_type": "code",
   "execution_count": 43,
   "id": "75072853",
   "metadata": {},
   "outputs": [],
   "source": [
    "popsicle_data = soup.find(id = \"app\")"
   ]
  },
  {
   "cell_type": "code",
   "execution_count": 47,
   "id": "f0509485",
   "metadata": {},
   "outputs": [],
   "source": [
    "# data_elements = popsicle_data.find_all(\"div\", class = \"info-block\")"
   ]
  },
  {
   "cell_type": "code",
   "execution_count": null,
   "id": "34b041d8",
   "metadata": {},
   "outputs": [],
   "source": []
  }
 ],
 "metadata": {
  "kernelspec": {
   "display_name": "Python 3",
   "language": "python",
   "name": "python3"
  },
  "language_info": {
   "codemirror_mode": {
    "name": "ipython",
    "version": 3
   },
   "file_extension": ".py",
   "mimetype": "text/x-python",
   "name": "python",
   "nbconvert_exporter": "python",
   "pygments_lexer": "ipython3",
   "version": "3.8.8"
  }
 },
 "nbformat": 4,
 "nbformat_minor": 5
}
